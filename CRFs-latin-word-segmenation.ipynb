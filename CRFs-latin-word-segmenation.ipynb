{
 "cells": [
  {
   "cell_type": "markdown",
   "metadata": {},
   "source": [
    "# Using Conditional Random Fields and Python for Latin word segmentation\n",
    "\n",
    "In this project, most texts from the Latin Library are being utilized to train a CRF the segmentation of Latin texts. \n",
    "For several centuries, Latin text was written without the use of space characters or any other word delimiters (scripio continua)."
   ]
  },
  {
   "cell_type": "markdown",
   "metadata": {},
   "source": [
    "First, perform some imports. The Python CRFSuite can be installed via\n",
    "__ pip install python-crfsuite __"
   ]
  },
  {
   "cell_type": "code",
   "execution_count": 1,
   "metadata": {},
   "outputs": [],
   "source": [
    "from bs4 import BeautifulSoup\n",
    "from urllib.request import urlopen, HTTPError\n",
    "import pycrfsuite"
   ]
  },
  {
   "cell_type": "code",
   "execution_count": 2,
   "metadata": {
    "collapsed": true
   },
   "outputs": [],
   "source": [
    "base_url = \"http://www.thelatinlibrary.com/\""
   ]
  },
  {
   "cell_type": "markdown",
   "metadata": {},
   "source": [
    "## Retrieving our training data\n",
    "\n",
    "Now, get most links on the Latin Library's homepage -- ignoring some links that are not associated with a particular author."
   ]
  },
  {
   "cell_type": "code",
   "execution_count": 3,
   "metadata": {
    "collapsed": true
   },
   "outputs": [],
   "source": [
    "home_content = urlopen(base_url)\n",
    "soup = BeautifulSoup(home_content, \"lxml\")\n",
    "author_page_links = soup.find_all(\"a\")\n",
    "author_pages = [ap[\"href\"] for i, ap in enumerate(author_page_links) if i < 49]\n",
    "ap_content = list()\n",
    "texts = list()"
   ]
  },
  {
   "cell_type": "code",
   "execution_count": 4,
   "metadata": {
    "collapsed": true
   },
   "outputs": [],
   "source": [
    "for ap in author_pages:\n",
    "    ap_content.append(urlopen(base_url + ap))"
   ]
  },
  {
   "cell_type": "markdown",
   "metadata": {},
   "source": [
    "Next, create a list of all links pointing to Latin texts. The Latin Library uses a special format which makes it easy to find the corresponding links: All of these links contain the name of the text author."
   ]
  },
  {
   "cell_type": "code",
   "execution_count": 5,
   "metadata": {
    "collapsed": true
   },
   "outputs": [],
   "source": [
    "book_links = list()"
   ]
  },
  {
   "cell_type": "code",
   "execution_count": 6,
   "metadata": {},
   "outputs": [
    {
     "name": "stdout",
     "output_type": "stream",
     "text": [
      "<a href=\"ammianus/14.shtml\">Liber XIV</a>\n"
     ]
    }
   ],
   "source": [
    "for path, content in zip(author_pages, ap_content):\n",
    "    author_name = path.split(\".\")[0]\n",
    "    ap_soup = BeautifulSoup(content, \"lxml\")\n",
    "    book_links += ([link for link in ap_soup.find_all(\"a\", {\"href\": True}) if author_name in link[\"href\"]])\n",
    "\n",
    "print(book_links[0])"
   ]
  },
  {
   "cell_type": "markdown",
   "metadata": {},
   "source": [
    "Get the text content and write it to a list. We will not need all of the books available, just take the first 200 pages."
   ]
  },
  {
   "cell_type": "code",
   "execution_count": 7,
   "metadata": {},
   "outputs": [
    {
     "name": "stdout",
     "output_type": "stream",
     "text": [
      "Getting content 200 of 200\r"
     ]
    }
   ],
   "source": [
    "texts = list()\n",
    "num_pages = 200\n",
    "\n",
    "for i, bl in enumerate(book_links[:num_pages]):\n",
    "    print(\"Getting content \" + str(i + 1) + \" of \" + str(num_pages), end=\"\\r\", flush=True)\n",
    "    try:\n",
    "        content = urlopen(base_url + bl[\"href\"]).read() \n",
    "        texts.append(content)\n",
    "    except HTTPError as err:\n",
    "        print(\"Unable to retrieve \" + bl[\"href\"] + \".\")\n",
    "        continue"
   ]
  },
  {
   "cell_type": "markdown",
   "metadata": {},
   "source": [
    "The text that we would like to retrieve is written on every book page in its paragraphs __1__ to __-1__. \n",
    "Then, split the text at periods to convert it into sentences which we will use for training later on."
   ]
  },
  {
   "cell_type": "code",
   "execution_count": 8,
   "metadata": {},
   "outputs": [
    {
     "name": "stdout",
     "output_type": "stream",
     "text": [
      "infamabat autem haec suspicio latinum domesticorum comitem et agilonem tribunum stabuli atque scudilonem scutariorum rectorem qui tunc ut dextris suis gestantes rem publicam colebantur\n"
     ]
    }
   ],
   "source": [
    "sentences = list()\n",
    "\n",
    "for i, text in enumerate(texts):\n",
    "    print(\"Document \" + str(i + 1) + \" of \" + str(len(texts)), end=\"\\r\", flush=True)\n",
    "    textSoup = BeautifulSoup(text, \"lxml\")\n",
    "    paragraphs = textSoup.find_all(\"p\", attrs={\"class\":None})\n",
    "    prepared = (\"\".join([p.text.strip().lower() for p in paragraphs[1:-1]]))\n",
    "    for t in prepared.split(\".\"):\n",
    "        part = \"\".join([c for c in t if c.isalpha() or c.isspace()])\n",
    "        sentences.append(part.strip())\n",
    "\n",
    "print(sentences[200])"
   ]
  },
  {
   "cell_type": "code",
   "execution_count": 9,
   "metadata": {},
   "outputs": [],
   "source": [
    "sentences = [s for s in sentences if len(s) > 5] # remove very short \"sentences\""
   ]
  },
  {
   "cell_type": "code",
   "execution_count": 10,
   "metadata": {},
   "outputs": [
    {
     "name": "stdout",
     "output_type": "stream",
     "text": [
      "tentis igitur regis utriusque legatis et negotio tectius diu pensato cum pacem oportere tribui quae iustis condicionibus petebatur eamque ex re tum fore sententiarum via concinens adprobasset advocato in contionem exercitu imperator pro tempore pauca dicturus tribunali adsistens circumdatus potestatum coetu celsarum ad hunc disservit modum nemo quaeso miretur si post exsudatos labores itinerum longos congestosque adfatim commeatus fiducia vestri ductante barbaricos pagos adventans velut mutato repente consilio ad placidiora deverti\n"
     ]
    }
   ],
   "source": [
    "print(sentences[200])"
   ]
  },
  {
   "cell_type": "markdown",
   "metadata": {},
   "source": [
    "For preparing our training data, every sentence is converted into a char list together with the information wether the char marks the beginning of a new word."
   ]
  },
  {
   "cell_type": "code",
   "execution_count": 11,
   "metadata": {},
   "outputs": [
    {
     "name": "stdout",
     "output_type": "stream",
     "text": [
      "[('t', 0), ('e', 0), ('n', 0), ('t', 0), ('i', 0), ('s', 0), ('i', 1), ('g', 0), ('i', 0), ('t', 0), ('u', 0), ('r', 0), ('r', 1), ('e', 0), ('g', 0), ('i', 0), ('s', 0), ('u', 1), ('t', 0), ('r', 0), ('i', 0), ('u', 0), ('s', 0), ('q', 0), ('u', 0), ('e', 0), ('l', 1), ('e', 0), ('g', 0), ('a', 0), ('t', 0), ('i', 0), ('s', 0), ('e', 1), ('t', 0), ('n', 1), ('e', 0), ('g', 0), ('o', 0), ('t', 0), ('i', 0), ('o', 0), ('t', 1), ('e', 0), ('c', 0), ('t', 0), ('i', 0), ('u', 0), ('s', 0), ('d', 1), ('i', 0), ('u', 0), ('p', 1), ('e', 0), ('n', 0), ('s', 0), ('a', 0), ('t', 0), ('o', 0), ('c', 1), ('u', 0), ('m', 0), ('p', 1), ('a', 0), ('c', 0), ('e', 0), ('m', 0), ('o', 1), ('p', 0), ('o', 0), ('r', 0), ('t', 0), ('e', 0), ('r', 0), ('e', 0), ('t', 1), ('r', 0), ('i', 0), ('b', 0), ('u', 0), ('i', 0), ('q', 1), ('u', 0), ('a', 0), ('e', 0), ('i', 1), ('u', 0), ('s', 0), ('t', 0), ('i', 0), ('s', 0), ('c', 1), ('o', 0), ('n', 0), ('d', 0), ('i', 0), ('c', 0), ('i', 0), ('o', 0), ('n', 0), ('i', 0), ('b', 0), ('u', 0), ('s', 0), ('p', 1), ('e', 0), ('t', 0), ('e', 0), ('b', 0), ('a', 0), ('t', 0), ('u', 0), ('r', 0), ('e', 1), ('a', 0), ('m', 0), ('q', 0), ('u', 0), ('e', 0), ('e', 1), ('x', 0), ('r', 1), ('e', 0), ('t', 1), ('u', 0), ('m', 0), ('f', 1), ('o', 0), ('r', 0), ('e', 0), ('s', 1), ('e', 0), ('n', 0), ('t', 0), ('e', 0), ('n', 0), ('t', 0), ('i', 0), ('a', 0), ('r', 0), ('u', 0), ('m', 0), ('v', 1), ('i', 0), ('a', 0), ('c', 1), ('o', 0), ('n', 0), ('c', 0), ('i', 0), ('n', 0), ('e', 0), ('n', 0), ('s', 0), ('a', 1), ('d', 0), ('p', 0), ('r', 0), ('o', 0), ('b', 0), ('a', 0), ('s', 0), ('s', 0), ('e', 0), ('t', 0), ('a', 1), ('d', 0), ('v', 0), ('o', 0), ('c', 0), ('a', 0), ('t', 0), ('o', 0), ('i', 1), ('n', 0), ('c', 1), ('o', 0), ('n', 0), ('t', 0), ('i', 0), ('o', 0), ('n', 0), ('e', 0), ('m', 0), ('e', 1), ('x', 0), ('e', 0), ('r', 0), ('c', 0), ('i', 0), ('t', 0), ('u', 0), ('i', 1), ('m', 0), ('p', 0), ('e', 0), ('r', 0), ('a', 0), ('t', 0), ('o', 0), ('r', 0), ('p', 1), ('r', 0), ('o', 0), ('t', 1), ('e', 0), ('m', 0), ('p', 0), ('o', 0), ('r', 0), ('e', 0), ('p', 1), ('a', 0), ('u', 0), ('c', 0), ('a', 0), ('d', 1), ('i', 0), ('c', 0), ('t', 0), ('u', 0), ('r', 0), ('u', 0), ('s', 0), ('t', 1), ('r', 0), ('i', 0), ('b', 0), ('u', 0), ('n', 0), ('a', 0), ('l', 0), ('i', 0), ('a', 1), ('d', 0), ('s', 0), ('i', 0), ('s', 0), ('t', 0), ('e', 0), ('n', 0), ('s', 0), ('c', 1), ('i', 0), ('r', 0), ('c', 0), ('u', 0), ('m', 0), ('d', 0), ('a', 0), ('t', 0), ('u', 0), ('s', 0), ('p', 1), ('o', 0), ('t', 0), ('e', 0), ('s', 0), ('t', 0), ('a', 0), ('t', 0), ('u', 0), ('m', 0), ('c', 1), ('o', 0), ('e', 0), ('t', 0), ('u', 0), ('c', 1), ('e', 0), ('l', 0), ('s', 0), ('a', 0), ('r', 0), ('u', 0), ('m', 0), ('a', 1), ('d', 0), ('h', 1), ('u', 0), ('n', 0), ('c', 0), ('d', 1), ('i', 0), ('s', 0), ('s', 0), ('e', 0), ('r', 0), ('v', 0), ('i', 0), ('t', 0), ('m', 1), ('o', 0), ('d', 0), ('u', 0), ('m', 0), ('n', 1), ('e', 0), ('m', 0), ('o', 0), ('q', 1), ('u', 0), ('a', 0), ('e', 0), ('s', 0), ('o', 0), ('m', 1), ('i', 0), ('r', 0), ('e', 0), ('t', 0), ('u', 0), ('r', 0), ('s', 1), ('i', 0), ('p', 1), ('o', 0), ('s', 0), ('t', 0), ('e', 1), ('x', 0), ('s', 0), ('u', 0), ('d', 0), ('a', 0), ('t', 0), ('o', 0), ('s', 0), ('l', 1), ('a', 0), ('b', 0), ('o', 0), ('r', 0), ('e', 0), ('s', 0), ('i', 1), ('t', 0), ('i', 0), ('n', 0), ('e', 0), ('r', 0), ('u', 0), ('m', 0), ('l', 1), ('o', 0), ('n', 0), ('g', 0), ('o', 0), ('s', 0), ('c', 1), ('o', 0), ('n', 0), ('g', 0), ('e', 0), ('s', 0), ('t', 0), ('o', 0), ('s', 0), ('q', 0), ('u', 0), ('e', 0), ('a', 1), ('d', 0), ('f', 0), ('a', 0), ('t', 0), ('i', 0), ('m', 0), ('c', 1), ('o', 0), ('m', 0), ('m', 0), ('e', 0), ('a', 0), ('t', 0), ('u', 0), ('s', 0), ('f', 1), ('i', 0), ('d', 0), ('u', 0), ('c', 0), ('i', 0), ('a', 0), ('v', 1), ('e', 0), ('s', 0), ('t', 0), ('r', 0), ('i', 0), ('d', 1), ('u', 0), ('c', 0), ('t', 0), ('a', 0), ('n', 0), ('t', 0), ('e', 0), ('b', 1), ('a', 0), ('r', 0), ('b', 0), ('a', 0), ('r', 0), ('i', 0), ('c', 0), ('o', 0), ('s', 0), ('p', 1), ('a', 0), ('g', 0), ('o', 0), ('s', 0), ('a', 1), ('d', 0), ('v', 0), ('e', 0), ('n', 0), ('t', 0), ('a', 0), ('n', 0), ('s', 0), ('v', 1), ('e', 0), ('l', 0), ('u', 0), ('t', 0), ('m', 1), ('u', 0), ('t', 0), ('a', 0), ('t', 0), ('o', 0), ('r', 1), ('e', 0), ('p', 0), ('e', 0), ('n', 0), ('t', 0), ('e', 0), ('c', 1), ('o', 0), ('n', 0), ('s', 0), ('i', 0), ('l', 0), ('i', 0), ('o', 0), ('a', 1), ('d', 0), ('p', 1), ('l', 0), ('a', 0), ('c', 0), ('i', 0), ('d', 0), ('i', 0), ('o', 0), ('r', 0), ('a', 0), ('d', 1), ('e', 0), ('v', 0), ('e', 0), ('r', 0), ('t', 0), ('i', 0)]\n"
     ]
    }
   ],
   "source": [
    "prepared_sentences = list()\n",
    "\n",
    "for sentence in sentences:\n",
    "    lengths = [len(w) for w in sentence.split(\" \")]\n",
    "    positions = []\n",
    "\n",
    "    next_pos = 0\n",
    "    for length in lengths:\n",
    "        next_pos = next_pos + length\n",
    "        positions.append(next_pos)\n",
    "    concatenated = sentence.replace(\" \", \"\")\n",
    "\n",
    "    chars = [c for c in concatenated]\n",
    "    labels = [0 if not i in positions else 1 for i, c in enumerate(concatenated)]\n",
    "\n",
    "    prepared_sentences.append(list(zip(chars, labels)))\n",
    "    \n",
    "    \n",
    "print([d for d in prepared_sentences[200]])"
   ]
  },
  {
   "cell_type": "markdown",
   "metadata": {},
   "source": [
    "## Transforming the characters to feature vectors.\n",
    "\n",
    "Finally, we can create some simple n-gram features. Obviously, you could think of much more sophisticated features and possibly improve our model's performance."
   ]
  },
  {
   "cell_type": "code",
   "execution_count": 12,
   "metadata": {},
   "outputs": [],
   "source": [
    "def create_char_features(sentence, i):\n",
    "    features = [\n",
    "        'bias',\n",
    "        'char=' + sentence[i][0] \n",
    "    ]\n",
    "    \n",
    "    if i >= 1:\n",
    "        features.extend([\n",
    "            'char-1=' + sentence[i-1][0],\n",
    "            'char-1:0=' + sentence[i-1][0] + sentence[i][0],\n",
    "        ])\n",
    "    else:\n",
    "        features.append(\"BOS\")\n",
    "        \n",
    "    if i >= 2:\n",
    "        features.extend([\n",
    "            'char-2=' + sentence[i-2][0],\n",
    "            'char-2:0=' + sentence[i-2][0] + sentence[i-1][0] + sentence[i][0],\n",
    "            'char-2:-1=' + sentence[i-2][0] + sentence[i-1][0],\n",
    "        ])\n",
    "        \n",
    "    if i >= 3:\n",
    "        features.extend([\n",
    "            'char-3:0=' + sentence[i-3][0] + sentence[i-2][0] + sentence[i-1][0] + sentence[i][0],\n",
    "            'char-3:-1=' + sentence[i-3][0] + sentence[i-2][0] + sentence[i-1][0],\n",
    "        ])\n",
    "        \n",
    "        \n",
    "    if i + 1 < len(sentence):\n",
    "        features.extend([\n",
    "            'char+1=' + sentence[i+1][0],\n",
    "            'char:+1=' + sentence[i][0] + sentence[i+1][0],\n",
    "        ])\n",
    "    else:\n",
    "        features.append(\"EOS\")\n",
    "        \n",
    "    if i + 2 < len(sentence):\n",
    "        features.extend([\n",
    "            'char+2=' + sentence[i+2][0],\n",
    "            'char:+2=' + sentence[i][0] + sentence[i+1][0] + sentence[i+2][0],\n",
    "            'char+1:+2=' + sentence[i+1][0] + sentence[i+2][0],\n",
    "        ])\n",
    "        \n",
    "    if i + 3 < len(sentence):\n",
    "        features.extend([\n",
    "            'char:+3=' + sentence[i][0] + sentence[i+1][0] + sentence[i+2][0]+ sentence[i+3][0],\n",
    "            'char+1:+3=' + sentence[i+1][0] + sentence[i+2][0] + sentence[i+3][0],\n",
    "        ])\n",
    "    \n",
    "    return features\n",
    "\n",
    "\n",
    "\n",
    "def create_sentence_features(prepared_sentence):\n",
    "    return [create_char_features(prepared_sentence, i) for i in range(len(prepared_sentence))]\n",
    "\n",
    "def create_sentence_labels(prepared_sentence):\n",
    "    return [str(part[1]) for part in prepared_sentence]"
   ]
  },
  {
   "cell_type": "code",
   "execution_count": 13,
   "metadata": {},
   "outputs": [],
   "source": [
    "X = [create_sentence_features(ps) for ps in prepared_sentences[:-10000]]\n",
    "y = [create_sentence_labels(ps)   for ps in prepared_sentences[:-10000]]\n",
    "\n",
    "X_test = [create_sentence_features(ps) for ps in prepared_sentences[-10000:]]\n",
    "y_test = [create_sentence_labels(ps)   for ps in prepared_sentences[-10000:]]"
   ]
  },
  {
   "cell_type": "markdown",
   "metadata": {},
   "source": [
    "## Training a CRF\n",
    "Now, we use Python-CRFSuite for training a CRF."
   ]
  },
  {
   "cell_type": "code",
   "execution_count": 14,
   "metadata": {},
   "outputs": [],
   "source": [
    "trainer = pycrfsuite.Trainer(verbose=False)\n",
    "\n",
    "for xseq, yseq in zip(X, y):\n",
    "    trainer.append(xseq, yseq)"
   ]
  },
  {
   "cell_type": "code",
   "execution_count": 15,
   "metadata": {
    "collapsed": true
   },
   "outputs": [],
   "source": [
    "trainer.set_params({\n",
    "    'c1': 1.0, \n",
    "    'c2': 1e-3,\n",
    "    'max_iterations': 60,\n",
    "    'feature.possible_transitions': True\n",
    "})"
   ]
  },
  {
   "cell_type": "code",
   "execution_count": 16,
   "metadata": {
    "collapsed": true
   },
   "outputs": [],
   "source": [
    "trainer.train('latin-text-segmentation.crfsuite')"
   ]
  },
  {
   "cell_type": "code",
   "execution_count": 17,
   "metadata": {},
   "outputs": [
    {
     "data": {
      "text/plain": [
       "<contextlib.closing at 0x10f2daba8>"
      ]
     },
     "execution_count": 17,
     "metadata": {},
     "output_type": "execute_result"
    }
   ],
   "source": [
    "tagger = pycrfsuite.Tagger()\n",
    "tagger.open('latin-text-segmentation.crfsuite')"
   ]
  },
  {
   "cell_type": "code",
   "execution_count": 18,
   "metadata": {},
   "outputs": [],
   "source": [
    "def segment_sentence(sentence):\n",
    "    sent = sentence.replace(\" \", \"\")\n",
    "    prediction = tagger.tag(create_sentence_features(sent))\n",
    "    complete = \"\"\n",
    "    for i, p in enumerate(prediction):\n",
    "        if p == \"1\":\n",
    "            complete += \" \" + sent[i]\n",
    "        else:\n",
    "            complete += sent[i]\n",
    "    return complete"
   ]
  },
  {
   "cell_type": "code",
   "execution_count": 19,
   "metadata": {},
   "outputs": [
    {
     "name": "stdout",
     "output_type": "stream",
     "text": [
      "dominus ad templum properat\n",
      "porta patet\n"
     ]
    }
   ],
   "source": [
    "print(segment_sentence(\"dominusadtemplumproperat\"))\n",
    "print(segment_sentence(\"portapatet\"))"
   ]
  },
  {
   "cell_type": "markdown",
   "metadata": {},
   "source": [
    "Finally, let's find out how well our model performs."
   ]
  },
  {
   "cell_type": "code",
   "execution_count": 20,
   "metadata": {},
   "outputs": [],
   "source": [
    "tp = 0\n",
    "fp = 0\n",
    "fn = 0\n",
    "n_correct = 0\n",
    "n_incorrect = 0\n",
    "\n",
    "for s in prepared_sentences[-10000:]:\n",
    "    prediction = tagger.tag(create_sentence_features(s))\n",
    "    correct = create_sentence_labels(s)\n",
    "    zipped = list(zip(prediction, correct))\n",
    "    tp +=        len([_ for l, c in zipped if l == c and l == \"1\"])\n",
    "    fp +=        len([_ for l, c in zipped if l == \"1\" and c == \"0\"])\n",
    "    fn +=        len([_ for l, c in zipped if l == \"0\" and c == \"1\"])\n",
    "    n_incorrect += len([_ for l, c in zipped if l != c])\n",
    "    n_correct   += len([_ for l, c in zipped if l == c])"
   ]
  },
  {
   "cell_type": "code",
   "execution_count": 21,
   "metadata": {},
   "outputs": [
    {
     "name": "stdout",
     "output_type": "stream",
     "text": [
      "Precision:\t0.9314353553833713\n",
      "Recall:\t\t0.9171904737701122\n",
      "Accuracy:\t0.9766116709677363\n"
     ]
    }
   ],
   "source": [
    "print(\"Precision:\\t\" + str(tp/(tp+fp)))\n",
    "print(\"Recall:\\t\\t\" + str(tp/(tp+fn)))\n",
    "print(\"Accuracy:\\t\" + str(n_correct/(n_correct+n_incorrect)))"
   ]
  },
  {
   "cell_type": "code",
   "execution_count": null,
   "metadata": {
    "collapsed": true
   },
   "outputs": [],
   "source": []
  }
 ],
 "metadata": {
  "kernelspec": {
   "display_name": "Python 3",
   "language": "python",
   "name": "python3"
  },
  "language_info": {
   "codemirror_mode": {
    "name": "ipython",
    "version": 3
   },
   "file_extension": ".py",
   "mimetype": "text/x-python",
   "name": "python",
   "nbconvert_exporter": "python",
   "pygments_lexer": "ipython3",
   "version": "3.6.1"
  }
 },
 "nbformat": 4,
 "nbformat_minor": 2
}
